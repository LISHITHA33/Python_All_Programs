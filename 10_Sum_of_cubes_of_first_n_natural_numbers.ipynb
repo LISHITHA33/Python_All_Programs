{
  "nbformat": 4,
  "nbformat_minor": 0,
  "metadata": {
    "colab": {
      "name": "10.Sum of cubes of first n natural numbers.ipynb",
      "provenance": [],
      "authorship_tag": "ABX9TyNobqcla2tR7obbBkDUQJIY"
    },
    "kernelspec": {
      "name": "python3",
      "display_name": "Python 3"
    },
    "language_info": {
      "name": "python"
    }
  },
  "cells": [
    {
      "cell_type": "code",
      "execution_count": 36,
      "metadata": {
        "colab": {
          "base_uri": "https://localhost:8080/"
        },
        "id": "iOfKwpA1tIS-",
        "outputId": "7a7b7f08-16bc-4014-a3a4-ed658d0d3a5a"
      },
      "outputs": [
        {
          "output_type": "stream",
          "name": "stdout",
          "text": [
            "Enter a number: 7\n",
            "Sum of cubes of first 7 natural number is  784\n"
          ]
        }
      ],
      "source": [
        "n = int(input(\"Enter a number: \"))\n",
        "b = 0\n",
        "if n > 1:\n",
        "    for i in range(1,n+1):\n",
        "        a = i*i*i\n",
        "        #print(i)\n",
        "        #print(a)\n",
        "        b = b + a\n",
        "        #print (b)\n",
        "    print(\"Sum of cubes of first\", n,\"natural number is \", b)\n"
      ]
    }
  ]
}