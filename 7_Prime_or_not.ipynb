{
  "nbformat": 4,
  "nbformat_minor": 0,
  "metadata": {
    "colab": {
      "name": "7.Prime or not.ipynb",
      "provenance": [],
      "authorship_tag": "ABX9TyO7RKr9R9KH6obJvc90lfJk"
    },
    "kernelspec": {
      "name": "python3",
      "display_name": "Python 3"
    },
    "language_info": {
      "name": "python"
    }
  },
  "cells": [
    {
      "cell_type": "code",
      "execution_count": null,
      "metadata": {
        "id": "iOfKwpA1tIS-"
      },
      "outputs": [],
      "source": [
        "num = int(input('Enter a number: '))\n",
        "if num > 1:\n",
        "    for i in range(2,num):\n",
        "        if (num % i ) == 0:\n",
        "            print(num, \" is not a prime number\")\n",
        "            break\n",
        "    else:\n",
        "        print(num, \" is a prime number\")"
      ]
    }
  ]
}