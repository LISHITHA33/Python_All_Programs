{
  "nbformat": 4,
  "nbformat_minor": 0,
  "metadata": {
    "colab": {
      "name": "16.Second Largest Element in the List.ipynb",
      "provenance": [],
      "authorship_tag": "ABX9TyOTH4oorwsuVZzEPRCyhMCE",
      "include_colab_link": true
    },
    "kernelspec": {
      "name": "python3",
      "display_name": "Python 3"
    },
    "language_info": {
      "name": "python"
    }
  },
  "cells": [
    {
      "cell_type": "markdown",
      "metadata": {
        "id": "view-in-github",
        "colab_type": "text"
      },
      "source": [
        "<a href=\"https://colab.research.google.com/github/LISHITHA33/Python_All_Programs/blob/Programs/16_Second_Largest_Element_in_the_List.ipynb\" target=\"_parent\"><img src=\"https://colab.research.google.com/assets/colab-badge.svg\" alt=\"Open In Colab\"/></a>"
      ]
    },
    {
      "cell_type": "code",
      "execution_count": 56,
      "metadata": {
        "colab": {
          "base_uri": "https://localhost:8080/"
        },
        "id": "iOfKwpA1tIS-",
        "outputId": "65f236eb-0791-470c-eda7-17dbab11a787"
      },
      "outputs": [
        {
          "output_type": "stream",
          "name": "stdout",
          "text": [
            "The largest element of the list is: 10\n",
            "The second largest element of the list is: 9\n",
            "The second largest element of the list is: 9\n"
          ]
        }
      ],
      "source": [
        "x = [6,3,9,2,10,1,2,3,4,5]\n",
        "print(\"The largest element of the list is:\", max(x))\n",
        "#Method 1\n",
        "y = x\n",
        "#print (y)\n",
        "y.sort()\n",
        "#print(y)\n",
        "print(\"The second largest element of the list is:\", y[-2])\n",
        "\n",
        "#Method 2\n",
        "z = x\n",
        "#print(z)\n",
        "z.remove(max(z))\n",
        "#print(z)\n",
        "print(\"The second largest element of the list is:\", max(z))\n"
      ]
    }
  ]
}