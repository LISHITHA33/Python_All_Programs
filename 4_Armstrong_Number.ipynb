{
  "nbformat": 4,
  "nbformat_minor": 0,
  "metadata": {
    "colab": {
      "name": "4.Armstrong Number.ipynb",
      "provenance": [],
      "authorship_tag": "ABX9TyPXHYSq8FpBahtaKWvcSpNr"
    },
    "kernelspec": {
      "name": "python3",
      "display_name": "Python 3"
    },
    "language_info": {
      "name": "python"
    }
  },
  "cells": [
    {
      "cell_type": "code",
      "execution_count": null,
      "metadata": {
        "id": "iOfKwpA1tIS-"
      },
      "outputs": [],
      "source": [
        "num = int(input(\"Enter a Number \"))\n",
        "copy_num = num\n",
        "order = len(str(num))\n",
        "sum = 0\n",
        "while num > 0:\n",
        "    digit = num % 10\n",
        "    sum = sum + (digit ** order)\n",
        "    num = num//10\n",
        "#print('Sum is ', sum)\n",
        "#print ('num is ', num)\n",
        "#print('Original num is ', copy_num)\n",
        "if sum == copy_num:\n",
        "    print(copy_num, ' is a Armstrong Number')\n",
        "else:\n",
        "    print(copy_num, ' is not a Armstrong Number')"
      ]
    }
  ]
}