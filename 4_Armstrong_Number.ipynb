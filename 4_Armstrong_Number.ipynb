{
  "nbformat": 4,
  "nbformat_minor": 0,
  "metadata": {
    "colab": {
      "name": "4.Armstrong Number.ipynb",
      "provenance": [],
      "authorship_tag": "ABX9TyPXHYSq8FpBahtaKWvcSpNr",
      "include_colab_link": true
    },
    "kernelspec": {
      "name": "python3",
      "display_name": "Python 3"
    },
    "language_info": {
      "name": "python"
    }
  },
  "cells": [
    {
      "cell_type": "markdown",
      "metadata": {
        "id": "view-in-github",
        "colab_type": "text"
      },
      "source": [
        "<a href=\"https://colab.research.google.com/github/LISHITHA33/Python_All_Programs/blob/Programs/4_Armstrong_Number.ipynb\" target=\"_parent\"><img src=\"https://colab.research.google.com/assets/colab-badge.svg\" alt=\"Open In Colab\"/></a>"
      ]
    },
    {
      "cell_type": "code",
      "execution_count": null,
      "metadata": {
        "id": "iOfKwpA1tIS-"
      },
      "outputs": [],
      "source": [
        "num = int(input(\"Enter a Number \"))\n",
        "copy_num = num\n",
        "order = len(str(num))\n",
        "sum = 0\n",
        "while num > 0:\n",
        "    digit = num % 10\n",
        "    sum = sum + (digit ** order)\n",
        "    num = num//10\n",
        "#print('Sum is ', sum)\n",
        "#print ('num is ', num)\n",
        "#print('Original num is ', copy_num)\n",
        "if sum == copy_num:\n",
        "    print(copy_num, ' is a Armstrong Number')\n",
        "else:\n",
        "    print(copy_num, ' is not a Armstrong Number')"
      ]
    }
  ]
}