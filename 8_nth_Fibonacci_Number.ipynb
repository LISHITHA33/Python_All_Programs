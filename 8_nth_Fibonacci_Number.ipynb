{
  "nbformat": 4,
  "nbformat_minor": 0,
  "metadata": {
    "colab": {
      "name": "8.nth Fibonacci Number.ipynb",
      "provenance": [],
      "authorship_tag": "ABX9TyPvVI70f8ee48R131c2pV0p",
      "include_colab_link": true
    },
    "kernelspec": {
      "name": "python3",
      "display_name": "Python 3"
    },
    "language_info": {
      "name": "python"
    }
  },
  "cells": [
    {
      "cell_type": "markdown",
      "metadata": {
        "id": "view-in-github",
        "colab_type": "text"
      },
      "source": [
        "<a href=\"https://colab.research.google.com/github/LISHITHA33/Python_All_Programs/blob/Programs/8_nth_Fibonacci_Number.ipynb\" target=\"_parent\"><img src=\"https://colab.research.google.com/assets/colab-badge.svg\" alt=\"Open In Colab\"/></a>"
      ]
    },
    {
      "cell_type": "code",
      "execution_count": null,
      "metadata": {
        "colab": {
          "base_uri": "https://localhost:8080/"
        },
        "id": "iOfKwpA1tIS-",
        "outputId": "7eb70f4b-d8c3-487b-bf50-3662037b34d3"
      },
      "outputs": [
        {
          "output_type": "stream",
          "name": "stdout",
          "text": [
            "Enter a number: 6\n",
            "Number using recurssive method is:  8\n",
            "Number using Iterative method is:  8\n"
          ]
        }
      ],
      "source": [
        "#Recurrence Method\n",
        "def fibrecur(n):\n",
        "    if n == 0:\n",
        "        return 0\n",
        "    elif (n<1):\n",
        "        print(\"Please enter a positive number\")\n",
        "    elif (n==1):\n",
        "        return 1\n",
        "    else:\n",
        "        return fibrecur(n-1) + fibrecur(n-2)\n",
        "    print(fibrecur(num))\n",
        "\n",
        "#Iterative Method\n",
        "def fibiter(n):\n",
        "    a = 0\n",
        "    b = 1\n",
        "    if n > 1:\n",
        "        for i in range(1,n):\n",
        "            c = a + b\n",
        "            a = b\n",
        "            b = c\n",
        "        return c\n",
        "    elif n==0:\n",
        "        return 0\n",
        "    elif n==1:\n",
        "        return 1\n",
        "    else:\n",
        "        print(\"Please enter a positive number\")\n",
        "\n",
        "if __name__ == '__main__':\n",
        "    num = int(input(\"Enter a number: \"))\n",
        "    print(\"Number using recurssive method is: \", fibrecur(num))\n",
        "    print(\"Number using Iterative method is: \", fibiter(num))\n"
      ]
    }
  ]
}