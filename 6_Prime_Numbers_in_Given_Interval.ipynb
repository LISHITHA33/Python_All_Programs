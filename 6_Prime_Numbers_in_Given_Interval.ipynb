{
  "nbformat": 4,
  "nbformat_minor": 0,
  "metadata": {
    "colab": {
      "name": "6.Prime Numbers in Given Interval.ipynb",
      "provenance": [],
      "authorship_tag": "ABX9TyOIR6AmmkJ5SDkNBVfezRC+",
      "include_colab_link": true
    },
    "kernelspec": {
      "name": "python3",
      "display_name": "Python 3"
    },
    "language_info": {
      "name": "python"
    }
  },
  "cells": [
    {
      "cell_type": "markdown",
      "metadata": {
        "id": "view-in-github",
        "colab_type": "text"
      },
      "source": [
        "<a href=\"https://colab.research.google.com/github/LISHITHA33/Python_All_Programs/blob/Programs/6_Prime_Numbers_in_Given_Interval.ipynb\" target=\"_parent\"><img src=\"https://colab.research.google.com/assets/colab-badge.svg\" alt=\"Open In Colab\"/></a>"
      ]
    },
    {
      "cell_type": "code",
      "execution_count": null,
      "metadata": {
        "id": "iOfKwpA1tIS-"
      },
      "outputs": [],
      "source": [
        "lower = int(input(\"Enter the lower value:\"))\n",
        "upper = int(input(\"Enter the upper value:\"))\n",
        "for number in range(lower,upper+1):\n",
        "    if number>1:\n",
        "        for i in range(2,number):\n",
        "            if (number%i)==0:\n",
        "                break\n",
        "        else:\n",
        "            print(number)"
      ]
    }
  ]
}