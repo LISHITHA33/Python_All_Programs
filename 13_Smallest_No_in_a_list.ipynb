{
  "nbformat": 4,
  "nbformat_minor": 0,
  "metadata": {
    "colab": {
      "name": "13.Smallest No. in a list.ipynb",
      "provenance": [],
      "authorship_tag": "ABX9TyP7jYUsm1JxuBnZE3kfC6LX",
      "include_colab_link": true
    },
    "kernelspec": {
      "name": "python3",
      "display_name": "Python 3"
    },
    "language_info": {
      "name": "python"
    }
  },
  "cells": [
    {
      "cell_type": "markdown",
      "metadata": {
        "id": "view-in-github",
        "colab_type": "text"
      },
      "source": [
        "<a href=\"https://colab.research.google.com/github/LISHITHA33/Python_All_Programs/blob/Programs/13_Smallest_No_in_a_list.ipynb\" target=\"_parent\"><img src=\"https://colab.research.google.com/assets/colab-badge.svg\" alt=\"Open In Colab\"/></a>"
      ]
    },
    {
      "cell_type": "code",
      "execution_count": 52,
      "metadata": {
        "colab": {
          "base_uri": "https://localhost:8080/"
        },
        "id": "iOfKwpA1tIS-",
        "outputId": "0956b390-70d3-4979-8e56-5c1c8270026d"
      },
      "outputs": [
        {
          "output_type": "stream",
          "name": "stdout",
          "text": [
            "Min: 97\n",
            "Min number occurence: 1\n",
            "Counter({123: 2, 676: 1, 3465: 1, 987: 1, 125: 1, 97: 1, 345: 1, 211: 1})\n"
          ]
        }
      ],
      "source": [
        "x = [123,676,3465,123,987,125,97,345,211]\n",
        "n = len(x)\n",
        "for i in range(n-1):\n",
        "    if x[i] < x[i+1]:\n",
        "        smallest_no = x[i]\n",
        "print(\"Min:\", smallest_no)\n",
        "print(\"Min number occurence:\", x.count(smallest_no))\n",
        "#Occurence of each element in list\n",
        "from collections import Counter\n",
        "print(Counter(x))"
      ]
    }
  ]
}