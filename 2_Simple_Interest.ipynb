{
  "nbformat": 4,
  "nbformat_minor": 0,
  "metadata": {
    "colab": {
      "name": "2. Simple Interest.ipynb",
      "provenance": [],
      "authorship_tag": "ABX9TyPL5qagnE+cG9D4jrLnCts8"
    },
    "kernelspec": {
      "name": "python3",
      "display_name": "Python 3"
    },
    "language_info": {
      "name": "python"
    }
  },
  "cells": [
    {
      "cell_type": "code",
      "execution_count": null,
      "metadata": {
        "id": "iOfKwpA1tIS-"
      },
      "outputs": [],
      "source": [
        "Principle = int(input (\"Enter principle amount: \"))\n",
        "Time = int(input (\"Enter time in years: \"))\n",
        "Rate = int(input (\"Enter rate of interest: \"))\n",
        "\n",
        "SI = Principle * Time * Rate/100\n",
        "print(SI)"
      ]
    }
  ]
}