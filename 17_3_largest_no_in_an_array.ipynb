{
  "nbformat": 4,
  "nbformat_minor": 0,
  "metadata": {
    "colab": {
      "name": "17.3 largest no in an array.ipynb",
      "provenance": [],
      "authorship_tag": "ABX9TyPVycCe7p9IhtYzgJXVqGVS",
      "include_colab_link": true
    },
    "kernelspec": {
      "name": "python3",
      "display_name": "Python 3"
    },
    "language_info": {
      "name": "python"
    }
  },
  "cells": [
    {
      "cell_type": "markdown",
      "metadata": {
        "id": "view-in-github",
        "colab_type": "text"
      },
      "source": [
        "<a href=\"https://colab.research.google.com/github/LISHITHA33/Python_All_Programs/blob/Programs/17_3_largest_no_in_an_array.ipynb\" target=\"_parent\"><img src=\"https://colab.research.google.com/assets/colab-badge.svg\" alt=\"Open In Colab\"/></a>"
      ]
    },
    {
      "cell_type": "code",
      "execution_count": 65,
      "metadata": {
        "colab": {
          "base_uri": "https://localhost:8080/"
        },
        "id": "iOfKwpA1tIS-",
        "outputId": "26095e6e-b630-4923-9308-57b19f1e42df"
      },
      "outputs": [
        {
          "output_type": "stream",
          "name": "stdout",
          "text": [
            "84 56 40\n"
          ]
        }
      ],
      "source": [
        "array = 20,12,40,84,56,33\n",
        "lis = list(array)\n",
        "#print(lis)\n",
        "lis.sort()\n",
        "#print(lis)\n",
        "print(lis[-1],lis[-2],lis[-3])\n"
      ]
    }
  ]
}