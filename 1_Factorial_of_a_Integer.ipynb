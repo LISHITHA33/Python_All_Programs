{
  "nbformat": 4,
  "nbformat_minor": 0,
  "metadata": {
    "colab": {
      "name": "1. Factorial of a Integer.ipynb",
      "provenance": [],
      "authorship_tag": "ABX9TyN561lEhWq2V2+1mOcGg+zV",
      "include_colab_link": true
    },
    "kernelspec": {
      "name": "python3",
      "display_name": "Python 3"
    },
    "language_info": {
      "name": "python"
    }
  },
  "cells": [
    {
      "cell_type": "markdown",
      "metadata": {
        "id": "view-in-github",
        "colab_type": "text"
      },
      "source": [
        "<a href=\"https://colab.research.google.com/github/LISHITHA33/Python_All_Programs/blob/Programs/1_Factorial_of_a_Integer.ipynb\" target=\"_parent\"><img src=\"https://colab.research.google.com/assets/colab-badge.svg\" alt=\"Open In Colab\"/></a>"
      ]
    },
    {
      "cell_type": "code",
      "execution_count": null,
      "metadata": {
        "id": "iOfKwpA1tIS-"
      },
      "outputs": [],
      "source": [
        "num = int(input(\"Enter a number \"))\n",
        "factorial = 1\n",
        "if num < 0:\n",
        "    print(\"Sorry, factorial doesnot exit for negative number\")\n",
        "elif num == 0:\n",
        "    print(\"The factorial of 0 is 1\")\n",
        "else :\n",
        "    for i in range (1, num+1):\n",
        "        factorial = factorial* i\n",
        "        #print (factorial)\n",
        "    print (\"The factorial of \", num , \" is \", factorial)"
      ]
    }
  ]
}