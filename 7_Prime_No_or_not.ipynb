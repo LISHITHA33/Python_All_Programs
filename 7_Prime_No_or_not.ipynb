{
  "nbformat": 4,
  "nbformat_minor": 0,
  "metadata": {
    "colab": {
      "name": "7.Prime No. or not.ipynb",
      "provenance": [],
      "authorship_tag": "ABX9TyOyGoNS6PkCegHvIblYPl44"
    },
    "kernelspec": {
      "name": "python3",
      "display_name": "Python 3"
    },
    "language_info": {
      "name": "python"
    }
  },
  "cells": [
    {
      "cell_type": "code",
      "execution_count": 32,
      "metadata": {
        "colab": {
          "base_uri": "https://localhost:8080/"
        },
        "id": "iOfKwpA1tIS-",
        "outputId": "22f1bb66-046b-48e6-cabf-73b458932b88"
      },
      "outputs": [
        {
          "output_type": "stream",
          "name": "stdout",
          "text": [
            "Enter a number: 23\n",
            "23  is a prime number\n"
          ]
        }
      ],
      "source": [
        "num = int(input(\"Enter a number: \"))\n",
        "if num > 1:\n",
        "    for i in range(2,num):\n",
        "        if (num % i ) == 0:\n",
        "            print(num, \" is not a prime number\")\n",
        "            break\n",
        "    else:\n",
        "        print(num, \" is a prime number\")\n"
      ]
    }
  ]
}