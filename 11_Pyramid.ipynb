https://colab.research.google.com/github/LISHITHA33/Python_All_Programs/blob/Programs/11_Pyramid.ipynb.ipynb
{
  "nbformat": 4,
  "nbformat_minor": 0,
  "metadata": {
    "colab": {
      "name": "11.Pyramid.ipynb",
      "provenance": [],
      "authorship_tag": "ABX9TyNZPRcosJNDi+iEzGES9Dlv"
    },
    "kernelspec": {
      "name": "python3",
      "display_name": "Python 3"
    },
    "language_info": {
      "name": "python"
    }
  },
  "cells": [
    {
      "cell_type": "code",
      "execution_count": 44,
      "metadata": {
        "colab": {
          "base_uri": "https://localhost:8080/"
        },
        "id": "iOfKwpA1tIS-",
        "outputId": "b7d62fa2-a4f3-4213-8ed4-9db855b4a9bd"
      },
      "outputs": [
        {
          "output_type": "stream",
          "name": "stdout",
          "text": [
            "Enter a number: 6\n",
            "      \n",
            "     * \n",
            "    * * \n",
            "   * * * \n",
            "  * * * * \n",
            " * * * * * \n"
          ]
        }
      ],
      "source": [
        "x = int(input(\"Enter a number: \"))\n",
        "for i in range(x):\n",
        "    print( ((x-i) * \" \")+ (i * \"* \") )"
      ]
    }
  ]
}
