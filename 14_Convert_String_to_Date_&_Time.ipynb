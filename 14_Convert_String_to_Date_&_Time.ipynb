{
  "nbformat": 4,
  "nbformat_minor": 0,
  "metadata": {
    "colab": {
      "name": "14.Convert String to Date & Time.ipynb",
      "provenance": [],
      "authorship_tag": "ABX9TyOsSWtCTZpKwmYN8oNsOWbU",
      "include_colab_link": true
    },
    "kernelspec": {
      "name": "python3",
      "display_name": "Python 3"
    },
    "language_info": {
      "name": "python"
    }
  },
  "cells": [
    {
      "cell_type": "markdown",
      "metadata": {
        "id": "view-in-github",
        "colab_type": "text"
      },
      "source": [
        "<a href=\"https://colab.research.google.com/github/LISHITHA33/Python_All_Programs/blob/Programs/14_Convert_String_to_Date_%26_Time.ipynb\" target=\"_parent\"><img src=\"https://colab.research.google.com/assets/colab-badge.svg\" alt=\"Open In Colab\"/></a>"
      ]
    },
    {
      "cell_type": "code",
      "execution_count": null,
      "metadata": {
        "colab": {
          "base_uri": "https://localhost:8080/"
        },
        "id": "iOfKwpA1tIS-",
        "outputId": "7e675dd2-7a26-476f-b4ed-305fa2596162"
      },
      "outputs": [
        {
          "output_type": "stream",
          "name": "stdout",
          "text": [
            "Updated_Time_Format_1:  2021-12-06 11:11:11\n",
            "Updated_Time_Format_2:  2021-06-12 11:11:11\n",
            "Updated_Time_Format_3:  2006-12-21 11:11:11\n"
          ]
        }
      ],
      "source": [
        "from datetime import datetime\n",
        "\n",
        "Current_Time_1 = \"06/12/21 11:11:11\"\n",
        "Updated_Time_Format_1 = datetime.strptime(Current_Time_1, '%d/%m/%y %H:%M:%S')\n",
        "print ('Updated_Time_Format_1: ', Updated_Time_Format_1)\n",
        "\n",
        "Current_Time_2 = \"06/12/21 11:11:11\"\n",
        "Updated_Time_Format_2 = datetime.strptime(Current_Time_2, '%m/%d/%y %H:%M:%S')\n",
        "print ('Updated_Time_Format_2: ', Updated_Time_Format_2)\n",
        "\n",
        "Current_Time_3 = \"06/12/21 11:11:11\"\n",
        "Updated_Time_Format_3 = datetime.strptime(Current_Time_1, '%y/%m/%d %H:%M:%S')\n",
        "print ('Updated_Time_Format_3: ', Updated_Time_Format_3)"
      ]
    }
  ]
}