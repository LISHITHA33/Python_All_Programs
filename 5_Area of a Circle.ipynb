{
  "nbformat": 4,
  "nbformat_minor": 0,
  "metadata": {
    "colab": {
      "name": "4.Armstrong Number.ipynb",
      "provenance": [],
      "authorship_tag": "ABX9TyP3a8fiQW+38TTuskaHcY5M"
    },
    "kernelspec": {
      "name": "python3",
      "display_name": "Python 3"
    },
    "language_info": {
      "name": "python"
    }
  },
  "cells": [
    {
      "cell_type": "code",
      "execution_count": null,
      "metadata": {
        "id": "iOfKwpA1tIS-"
      },
      "outputs": [],
      "source": [
        "import math as M\n",
        "radius = int(input(\"Enter radius of circle\"))\n",
        "area = M.pi * (radius ** 2)\n",
        "print(area)"
      ]
    }
  ]
}