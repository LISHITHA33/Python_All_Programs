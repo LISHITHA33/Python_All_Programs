{
  "nbformat": 4,
  "nbformat_minor": 0,
  "metadata": {
    "colab": {
      "name": "15.Addition of Matrices.ipynb",
      "provenance": [],
      "authorship_tag": "ABX9TyOECbnYNWGmOTrTNyfzbWO8",
      "include_colab_link": true
    },
    "kernelspec": {
      "name": "python3",
      "display_name": "Python 3"
    },
    "language_info": {
      "name": "python"
    }
  },
  "cells": [
    {
      "cell_type": "markdown",
      "metadata": {
        "id": "view-in-github",
        "colab_type": "text"
      },
      "source": [
        "<a href=\"https://colab.research.google.com/github/LISHITHA33/Python_All_Programs/blob/Programs/15_Addition_of_Matrices.ipynb\" target=\"_parent\"><img src=\"https://colab.research.google.com/assets/colab-badge.svg\" alt=\"Open In Colab\"/></a>"
      ]
    },
    {
      "cell_type": "code",
      "execution_count": null,
      "metadata": {
        "colab": {
          "base_uri": "https://localhost:8080/"
        },
        "id": "iOfKwpA1tIS-",
        "outputId": "7b3904a4-e072-4977-ca94-2c22a60fc57f"
      },
      "outputs": [
        {
          "output_type": "stream",
          "name": "stdout",
          "text": [
            "[10, 10, 10]\n",
            "[10, 10, 10]\n",
            "[10, 10, 10]\n"
          ]
        }
      ],
      "source": [
        "x = [[1,2,3],\n",
        "[4 ,5,6],\n",
        "[7 ,8,9]]\n",
        "\n",
        "y = [[9,8,7],\n",
        "[6,5,4],\n",
        "[3,2,1]]\n",
        "\n",
        "result = [[0,0,0],\n",
        "[0,0,0],\n",
        "[0,0,0]]\n",
        "\n",
        "for i in range(len(x)):\n",
        "    #print (\"i is: \",i)\n",
        "    for j in range (len(x[0])):\n",
        "        #print ('j is: ', j)\n",
        "        result[i][j] = x[i][j] + y[i][j]\n",
        "        #print(result)\n",
        "for r in result:\n",
        "    print(r)\n"
      ]
    }
  ]
}