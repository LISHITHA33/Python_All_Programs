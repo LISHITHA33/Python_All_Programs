{
  "nbformat": 4,
  "nbformat_minor": 0,
  "metadata": {
    "colab": {
      "name": "9.Sum of squares of first n natural numbers.ipynb",
      "provenance": [],
      "authorship_tag": "ABX9TyMa2nn7ylWLC4KwPJ6C2YuU",
      "include_colab_link": true
    },
    "kernelspec": {
      "name": "python3",
      "display_name": "Python 3"
    },
    "language_info": {
      "name": "python"
    }
  },
  "cells": [
    {
      "cell_type": "markdown",
      "metadata": {
        "id": "view-in-github",
        "colab_type": "text"
      },
      "source": [
        "<a href=\"https://colab.research.google.com/github/LISHITHA33/Python_All_Programs/blob/Programs/9_Sum_of_squares_of_first_n_natural_numbers.ipynb\" target=\"_parent\"><img src=\"https://colab.research.google.com/assets/colab-badge.svg\" alt=\"Open In Colab\"/></a>"
      ]
    },
    {
      "cell_type": "code",
      "execution_count": null,
      "metadata": {
        "colab": {
          "base_uri": "https://localhost:8080/"
        },
        "id": "iOfKwpA1tIS-",
        "outputId": "758aeae7-ab8f-4430-ca6a-ef8b48d47b89"
      },
      "outputs": [
        {
          "output_type": "stream",
          "name": "stdout",
          "text": [
            "Enter a number: 5\n",
            "Sum of squares of first 5 natural number is  55\n"
          ]
        }
      ],
      "source": [
        "n = int(input(\"Enter a number: \"))\n",
        "b = 0\n",
        "if n > 1:\n",
        "    for i in range(1,n+1):\n",
        "        a = i*i\n",
        "        #print(i)\n",
        "        #print(a)\n",
        "        b = b + a\n",
        "        #print (b)\n",
        "    print(\"Sum of squares of first\", n,\"natural number is \", b)\n"
      ]
    }
  ]
}