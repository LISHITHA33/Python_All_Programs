{
  "nbformat": 4,
  "nbformat_minor": 0,
  "metadata": {
    "colab": {
      "name": "2.Compound Interest.ipynb",
      "provenance": [],
      "authorship_tag": "ABX9TyM7C9zP/iyPGF8cr+O1J53+"
    },
    "kernelspec": {
      "name": "python3",
      "display_name": "Python 3"
    },
    "language_info": {
      "name": "python"
    }
  },
  "cells": [
    {
      "cell_type": "code",
      "execution_count": null,
      "metadata": {
        "id": "iOfKwpA1tIS-"
      },
      "outputs": [],
      "source": [
        "Principle = int(input (\"Enter principle amount: \"))\n",
        "Time = int(input (\"Enter time in years: \"))\n",
        "Rate = int(input (\"Enter rate of interest: \"))\n",
        "\n",
        "CI = int(Principle * Time * ( 1 + (Rate/100)))\n",
        "print(CI)"
      ]
    }
  ]
}